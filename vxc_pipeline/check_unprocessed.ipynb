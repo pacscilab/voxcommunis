{
 "cells": [
  {
   "cell_type": "code",
   "execution_count": 2,
   "metadata": {},
   "outputs": [],
   "source": [
    "import os"
   ]
  },
  {
   "cell_type": "code",
   "execution_count": 15,
   "metadata": {},
   "outputs": [],
   "source": [
    "cv_dir = '/Users/miaozhang/Research/VoxCommunis/CommonVoice'\n",
    "lang_folders = os.listdir(cv_dir)\n",
    "lang_folders = [folder for folder in lang_folders if folder != '.DS_Store']\n",
    "lang_folders = [os.path.join(cv_dir, folder) for folder in lang_folders]\n",
    "#print(len(lang_folders), \" folders in total.\")\n",
    "#for folder in lang_folders:\n",
    "#    print(folder)\n",
    "\n",
    "lang_folders = [os.path.join(folder, 'validated') for folder in lang_folders]\n",
    "for folder in lang_folders:\n",
    "    if not os.path.exists(folder):\n",
    "        print(folder)"
   ]
  },
  {
   "cell_type": "code",
   "execution_count": 16,
   "metadata": {},
   "outputs": [],
   "source": [
    "cv_dir = '/Users/miaozhang/Research/VoxCommunis/CommonVoice'\n",
    "lang_folders = os.listdir(cv_dir)\n",
    "lang_folders = [folder for folder in lang_folders if folder != '.DS_Store']\n",
    "lang_folders = [os.path.join(cv_dir, folder) for folder in lang_folders]\n",
    "#print(len(lang_folders), \" folders in total.\")\n",
    "#for folder in lang_folders:\n",
    "#    print(folder)\n",
    "\n",
    "lang_folders = [os.path.join(folder, 'output') for folder in lang_folders]\n",
    "for folder in lang_folders:\n",
    "    if not os.path.exists(folder):\n",
    "        print(folder)"
   ]
  }
 ],
 "metadata": {
  "kernelspec": {
   "display_name": "base",
   "language": "python",
   "name": "python3"
  },
  "language_info": {
   "codemirror_mode": {
    "name": "ipython",
    "version": 3
   },
   "file_extension": ".py",
   "mimetype": "text/x-python",
   "name": "python",
   "nbconvert_exporter": "python",
   "pygments_lexer": "ipython3",
   "version": "3.11.5"
  }
 },
 "nbformat": 4,
 "nbformat_minor": 2
}
