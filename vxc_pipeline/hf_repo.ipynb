{
 "cells": [
  {
   "cell_type": "markdown",
   "metadata": {},
   "source": [
    "# Install huggingface_hub"
   ]
  },
  {
   "cell_type": "code",
   "execution_count": null,
   "metadata": {},
   "outputs": [],
   "source": [
    "%pip install huggingface_hub"
   ]
  },
  {
   "cell_type": "markdown",
   "metadata": {},
   "source": [
    "# Load huggingface_hub module"
   ]
  },
  {
   "cell_type": "code",
   "execution_count": null,
   "metadata": {},
   "outputs": [],
   "source": [
    "import huggingface_hub as hghb\n",
    "api = hghb.HfApi()\n",
    "from huggingface_hub import login\n",
    "login()"
   ]
  },
  {
   "cell_type": "markdown",
   "metadata": {},
   "source": [
    "# Create a dataset repo"
   ]
  },
  {
   "cell_type": "code",
   "execution_count": null,
   "metadata": {},
   "outputs": [],
   "source": [
    "hghb.create_repo(repo_id=\"pacscilab/VoxCommunis\", repo_type=\"dataset\", private=False)"
   ]
  },
  {
   "cell_type": "markdown",
   "metadata": {},
   "source": [
    "## Upload folders"
   ]
  },
  {
   "cell_type": "code",
   "execution_count": null,
   "metadata": {},
   "outputs": [],
   "source": [
    "# Upload the models\n",
    "api.upload_folder(\n",
    "    folder_path=\"/Users/miaozhang/Research/VoxCommunis/VoxCommunis_OSF/acoustic_models\",\n",
    "    path_in_repo=\"acoustic_models\",\n",
    "    repo_id=\"pacscilab/VoxCommunis\",\n",
    "    repo_type=\"dataset\",\n",
    "    ignore_patterns=\".DS_Store\"\n",
    "    )"
   ]
  },
  {
   "cell_type": "code",
   "execution_count": null,
   "metadata": {},
   "outputs": [],
   "source": [
    "# Upload the lexicons\n",
    "api.upload_folder(\n",
    "    folder_path=\"/Users/miaozhang/Research/VoxCommunis/VoxCommunis_OSF/lexicons\",\n",
    "    path_in_repo=\"lexicons\",\n",
    "    repo_id=\"pacscilab/VoxCommunis\",\n",
    "    repo_type=\"dataset\",\n",
    "    ignore_patterns=\".DS_Store\"\n",
    "    )"
   ]
  },
  {
   "cell_type": "code",
   "execution_count": null,
   "metadata": {},
   "outputs": [],
   "source": [
    "# Upload the speaker files\n",
    "api.upload_folder(\n",
    "    folder_path=\"/Users/miaozhang/Research/VoxCommunis/VoxCommunis_OSF/spkr_files\",\n",
    "    path_in_repo=\"speaker_files\",\n",
    "    repo_id=\"pacscilab/VoxCommunis\",\n",
    "    repo_type=\"dataset\",\n",
    "    ignore_patterns=\".DS_Store\"\n",
    "    )"
   ]
  },
  {
   "cell_type": "code",
   "execution_count": null,
   "metadata": {},
   "outputs": [],
   "source": [
    "# Upload the textgrids\n",
    "api.upload_folder(\n",
    "    folder_path=\"/Users/miaozhang/Research/VoxCommunis/VoxCommunis_OSF/textgrids\",\n",
    "    path_in_repo=\"textgrids\",\n",
    "    repo_id=\"pacscilab/VoxCommunis\",\n",
    "    repo_type=\"dataset\",\n",
    "    ignore_patterns=\".DS_Store\"\n",
    "    )"
   ]
  },
  {
   "cell_type": "markdown",
   "metadata": {},
   "source": [
    "## Upload files"
   ]
  },
  {
   "cell_type": "code",
   "execution_count": null,
   "metadata": {},
   "outputs": [],
   "source": [
    "# Acoustic models\n",
    "api.upload_file(\n",
    "    path_or_fileobj=\"/Users/miaozhang/Research/VoxCommunis/VoxCommunis_OSF/acoustic_models/yue_epi_acoustic19.zip\",\n",
    "    path_in_repo=\"acoustic_models\",\n",
    "    repo_id=\"pacscilab/VoxCommunis\",\n",
    "    repo_type=\"dataset\",\n",
    ")"
   ]
  },
  {
   "cell_type": "code",
   "execution_count": null,
   "metadata": {},
   "outputs": [],
   "source": [
    "# Speaker file\n",
    "api.upload_file(\n",
    "    path_or_fileobj=\"/Users/miaozhang/Research/VoxCommunis/VoxCommunis_OSF/spkr_files/yue_epi_spkr19.tsv\",\n",
    "    path_in_repo=\"speaker_files\",\n",
    "    repo_id=\"pacscilab/VoxCommunis\",\n",
    "    repo_type=\"dataset\"\n",
    ")"
   ]
  },
  {
   "cell_type": "code",
   "execution_count": null,
   "metadata": {},
   "outputs": [],
   "source": [
    "# Lexicon\n",
    "api.upload_file(\n",
    "    path_or_fileobj=\"/Users/miaozhang/Research/VoxCommunis/VoxCommunis_OSF/lexicons/yue_epi_lexicon19.txt\",\n",
    "    path_in_repo=\"lexicons\",\n",
    "    repo_id=\"pacscilab/VoxCommunis\",\n",
    "    repo_type=\"dataset\"\n",
    ")"
   ]
  },
  {
   "cell_type": "code",
   "execution_count": null,
   "metadata": {},
   "outputs": [],
   "source": [
    "# TextGrids\n",
    "api.upload_file(\n",
    "    path_or_fileobj=\"/Users/miaozhang/Research/VoxCommunis/VoxCommunis_OSF/textgrids/yue_epi_textgrids19_acoustic19.zip\",\n",
    "    path_in_repo=\"textgrids\",\n",
    "    repo_id=\"pacscilab/VoxCommunis\",\n",
    "    repo_type=\"dataset\",\n",
    ")"
   ]
  },
  {
   "cell_type": "markdown",
   "metadata": {},
   "source": [
    "# Download"
   ]
  },
  {
   "cell_type": "code",
   "execution_count": 2,
   "metadata": {},
   "outputs": [],
   "source": [
    "from huggingface_hub import snapshot_download"
   ]
  },
  {
   "cell_type": "code",
   "execution_count": null,
   "metadata": {},
   "outputs": [],
   "source": [
    "snapshot_download(repo_id=\"pacscilab/VoxCommunis\", repo_type=\"dataset\", local_dir = '/Users/miaozhang/Research/VoxCommunis/VoxCommunis_Huggingface')"
   ]
  },
  {
   "cell_type": "markdown",
   "metadata": {},
   "source": [
    "# Delete cached files"
   ]
  },
  {
   "cell_type": "code",
   "execution_count": null,
   "metadata": {},
   "outputs": [],
   "source": [
    "from huggingface_hub import HfFolder\n",
    "HfFolder.clean_cache()"
   ]
  }
 ],
 "metadata": {
  "kernelspec": {
   "display_name": "base",
   "language": "python",
   "name": "python3"
  },
  "language_info": {
   "codemirror_mode": {
    "name": "ipython",
    "version": 3
   },
   "file_extension": ".py",
   "mimetype": "text/x-python",
   "name": "python",
   "nbconvert_exporter": "python",
   "pygments_lexer": "ipython3",
   "version": "3.11.5"
  }
 },
 "nbformat": 4,
 "nbformat_minor": 2
}
