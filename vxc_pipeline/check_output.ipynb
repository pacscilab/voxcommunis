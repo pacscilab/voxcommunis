{
 "cells": [
  {
   "cell_type": "code",
   "execution_count": 1,
   "metadata": {},
   "outputs": [],
   "source": [
    "import os, re"
   ]
  },
  {
   "cell_type": "code",
   "execution_count": 7,
   "metadata": {},
   "outputs": [
    {
     "name": "stdout",
     "output_type": "stream",
     "text": [
      "75\n",
      "No duplicates.\n"
     ]
    }
   ],
   "source": [
    "dir = '/Users/miaozhang/Research/VoxCommunis/VoxCommunis_Huggingface/acoustic_models'\n",
    "files = os.listdir(dir)\n",
    "files = [file for file in files if file != \".DS_Store\"]\n",
    "files = [re.sub(r'(^[a-zA-Z-]+)[a-z0-9_.]+', '\\\\1', file) for file in files]\n",
    "#for file in files:\n",
    "#    print(file)\n",
    "print(len(files))\n",
    "\n",
    "duplicates = list(set(file for file in files if files.count(file) > 1))\n",
    "if len(duplicates) > 0:\n",
    "    print(duplicates)\n",
    "else:\n",
    "    print('No duplicates.')"
   ]
  },
  {
   "cell_type": "code",
   "execution_count": 9,
   "metadata": {},
   "outputs": [
    {
     "name": "stdout",
     "output_type": "stream",
     "text": [
      "75\n",
      "No duplicates.\n"
     ]
    }
   ],
   "source": [
    "cv_dir = '/Users/miaozhang/Research/VoxCommunis/CommonVoice'\n",
    "datasets = [folder for folder in os.listdir(cv_dir) if folder != '.DS_Store']\n",
    "datasets = [re.sub(r'(^[a-zA-Z-]+)[a-z0-9_.]*', '\\\\1', folder) for folder in datasets]\n",
    "print(len(datasets))\n",
    "#for folder in datasets:\n",
    "#    print(folder)\n",
    "\n",
    "duplicates = list(set(file for file in datasets if datasets.count(file) > 1))\n",
    "if len(duplicates) > 0:\n",
    "    print(duplicates)\n",
    "else:\n",
    "    print('No duplicates.')"
   ]
  },
  {
   "cell_type": "code",
   "execution_count": 10,
   "metadata": {},
   "outputs": [
    {
     "name": "stdout",
     "output_type": "stream",
     "text": [
      "[]\n",
      "[]\n"
     ]
    }
   ],
   "source": [
    "set_a = set(files)\n",
    "set_b = set(datasets)\n",
    "print(list(set_a - set_b))\n",
    "print(list(set_b - set_a))"
   ]
  }
 ],
 "metadata": {
  "kernelspec": {
   "display_name": "base",
   "language": "python",
   "name": "python3"
  },
  "language_info": {
   "codemirror_mode": {
    "name": "ipython",
    "version": 3
   },
   "file_extension": ".py",
   "mimetype": "text/x-python",
   "name": "python",
   "nbconvert_exporter": "python",
   "pygments_lexer": "ipython3",
   "version": "3.11.5"
  }
 },
 "nbformat": 4,
 "nbformat_minor": 2
}
