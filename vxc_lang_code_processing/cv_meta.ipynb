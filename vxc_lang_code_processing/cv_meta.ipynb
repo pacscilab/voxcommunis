{
 "cells": [
  {
   "cell_type": "code",
   "execution_count": null,
   "metadata": {},
   "outputs": [],
   "source": [
    "import json\n",
    "import pandas as pd\n",
    "pd.options.mode.copy_on_write = True"
   ]
  },
  {
   "cell_type": "code",
   "execution_count": null,
   "metadata": {},
   "outputs": [
    {
     "name": "stdout",
     "output_type": "stream",
     "text": [
      "Total users:  350098\n",
      "Total langauges:  134\n",
      "Total languages with over 2hrs of validated recordings:  103\n"
     ]
    }
   ],
   "source": [
    "# Load the JSON file\n",
    "file_path = \"cv-corpus-21.0-2025-03-14.json\"\n",
    "with open(file_path, \"r\", encoding=\"utf-8\") as file:\n",
    "    data = json.load(file)\n",
    "\n",
    "cv_lang_meta = pd.DataFrame.from_dict(data['locales'], orient='index') \n",
    "cv_info = cv_lang_meta[['totalHrs', 'validHrs', 'users', 'clips']]\n",
    "cv_info.rename({'clips' : 'totalClips'}, axis=1, inplace=True)\n",
    "cv_info['validatedClips'] = cv_lang_meta.buckets.apply(pd.Series)['validated']\n",
    "\n",
    "print(\"Total users: \",sum(cv_info['users']))\n",
    "print(\"Total langauges: \", len(cv_info))\n",
    "print(\"Total languages with over 2hrs of validated recordings: \", len(cv_info[cv_info['validHrs'] > 2]))\n",
    "\n",
    "# Save the DataFrame to a CSV file\n",
    "ver_num = 21\n",
    "output_file_path = \"cv_lang_meta_\" + str(ver_num) + \".csv\"\n",
    "# Save the DataFrame to a CSV file\n",
    "cv_info.to_csv(output_file_path, index=True, header=True)\n",
    "\n"
   ]
  }
 ],
 "metadata": {
  "kernelspec": {
   "display_name": "base",
   "language": "python",
   "name": "python3"
  },
  "language_info": {
   "codemirror_mode": {
    "name": "ipython",
    "version": 3
   },
   "file_extension": ".py",
   "mimetype": "text/x-python",
   "name": "python",
   "nbconvert_exporter": "python",
   "pygments_lexer": "ipython3",
   "version": "3.11.5"
  }
 },
 "nbformat": 4,
 "nbformat_minor": 2
}
