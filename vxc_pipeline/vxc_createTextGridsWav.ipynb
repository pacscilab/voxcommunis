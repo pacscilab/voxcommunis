{
 "cells": [
  {
   "cell_type": "code",
   "execution_count": 1,
   "metadata": {},
   "outputs": [],
   "source": [
    "import pandas as pd\n",
    "import parselmouth\n",
    "from pydub import AudioSegment\n",
    "\n",
    "def convert_mp3_to_wav(mp3_file, wav_file):\n",
    "    # Load the MP3 file\n",
    "    audio = AudioSegment.from_mp3(mp3_file)\n",
    "\n",
    "    # Export the audio to WAV format\n",
    "    audio.export(wav_file, format=\"wav\")\n",
    "\n",
    "validSpkr = pd.read_csv('/Users/miaozhang/Research/CorpusPhon/CorpusData/CommonVoice/rw_v16/rw_epi_spkr16.tsv', sep = '\\t', usecols=['path', 'sentence', 'speaker_id', 'new_utt'])\n"
   ]
  },
  {
   "cell_type": "code",
   "execution_count": 15,
   "metadata": {},
   "outputs": [
    {
     "name": "stdout",
     "output_type": "stream",
     "text": [
      "0          common_voice_rw_20330258.mp3\n",
      "1          common_voice_rw_21869727.mp3\n",
      "2          common_voice_rw_22322349.mp3\n",
      "3          common_voice_rw_28095400.mp3\n",
      "4          common_voice_rw_22469044.mp3\n",
      "                       ...             \n",
      "1306438    common_voice_rw_23430430.mp3\n",
      "1306439    common_voice_rw_23430431.mp3\n",
      "1306440    common_voice_rw_23430457.mp3\n",
      "1306441    common_voice_rw_23430458.mp3\n",
      "1306442    common_voice_rw_23430459.mp3\n",
      "Name: path, Length: 1306443, dtype: object\n",
      "0          00114_common_voice_rw_20330258.wav\n",
      "1          00813_common_voice_rw_21869727.wav\n",
      "2          00373_common_voice_rw_22322349.wav\n",
      "3          00298_common_voice_rw_28095400.wav\n",
      "4          00016_common_voice_rw_22469044.wav\n",
      "                          ...                \n",
      "1306438    00499_common_voice_rw_23430430.wav\n",
      "1306439    00499_common_voice_rw_23430431.wav\n",
      "1306440    00499_common_voice_rw_23430457.wav\n",
      "1306441    00499_common_voice_rw_23430458.wav\n",
      "1306442    00499_common_voice_rw_23430459.wav\n",
      "Name: new_utt, Length: 1306443, dtype: object\n"
     ]
    }
   ],
   "source": [
    "# Example usage\n",
    "mp3_file = validSpkr['path']\n",
    "wav_file = validSpkr['new_utt'] + '.wav'\n",
    "\n",
    "print(mp3_file)\n",
    "print(wav_file)"
   ]
  },
  {
   "cell_type": "code",
   "execution_count": null,
   "metadata": {},
   "outputs": [],
   "source": []
  },
  {
   "cell_type": "code",
   "execution_count": null,
   "metadata": {},
   "outputs": [],
   "source": [
    "def create_textgrid(wav_file, tier_name, intervals):\n",
    "    # Load the audio file\n",
    "    snd = parselmouth.Sound(wav_file)\n",
    "\n",
    "    # Create a TextGrid object\n",
    "    tg = parselmouth.TextGrid()\n",
    "\n",
    "    # Add a new tier to the TextGrid\n",
    "    tier = tg.add_tier(tier_name)\n",
    "\n",
    "    # Add intervals to the tier\n",
    "    for interval in intervals:\n",
    "        start_time, end_time, label = interval\n",
    "        tier.add_interval(start_time, end_time, label)\n",
    "\n",
    "    # Save the TextGrid to a file\n",
    "    textgrid_file = wav_file.replace(\".wav\", \".TextGrid\")\n",
    "    tg.save(textgrid_file)\n",
    "\n",
    "# Example usage\n",
    "wav_file = \"path/to/your/recording.wav\"\n",
    "tier_name = \"MyTier\"\n",
    "intervals = [(0.0, 1.5, \"Interval1\"), (1.5, 3.0, \"Interval2\")]\n",
    "\n",
    "create_textgrid(wav_file, tier_name, intervals)"
   ]
  },
  {
   "cell_type": "code",
   "execution_count": null,
   "metadata": {},
   "outputs": [],
   "source": [
    "\n",
    "\n",
    "\n",
    "\n"
   ]
  }
 ],
 "metadata": {
  "kernelspec": {
   "display_name": "base",
   "language": "python",
   "name": "python3"
  },
  "language_info": {
   "codemirror_mode": {
    "name": "ipython",
    "version": 3
   },
   "file_extension": ".py",
   "mimetype": "text/x-python",
   "name": "python",
   "nbconvert_exporter": "python",
   "pygments_lexer": "ipython3",
   "version": "3.11.7"
  }
 },
 "nbformat": 4,
 "nbformat_minor": 2
}
