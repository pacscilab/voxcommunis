{
 "cells": [
  {
   "cell_type": "code",
   "execution_count": null,
   "metadata": {},
   "outputs": [],
   "source": [
    "import pandas as pd\n",
    "import librosa\n",
    "import librosa.display\n",
    "import matplotlib.pyplot as plt\n",
    "import numpy as np\n",
    "from pydub import AudioSegment\n",
    "from pydub.playback import play\n",
    "\n",
    "def inspect_snd(snd_path, transcript):\n",
    "    # Load audio file\n",
    "    y, sr = librosa.load(snd_path)\n",
    "    duration = librosa.get_duration(y=y, sr=sr)\n",
    "\n",
    "    # Create a time axis for sound wave plot\n",
    "    time = np.arange(0, len(y)) / sr\n",
    "\n",
    "    # Create a figure with two subplots\n",
    "    plt.figure(figsize=(12, 8))\n",
    "\n",
    "    # Plot the sound wave\n",
    "    plt.subplot(2, 1, 1)\n",
    "    plt.plot(time, y, color='b')\n",
    "    plt.title(transcript)\n",
    "    plt.xlabel('Time (s)')\n",
    "    plt.ylabel('Amplitude')\n",
    "    plt.xlim([0, duration])\n",
    "\n",
    "    # Adjust layout\n",
    "    plt.tight_layout()\n",
    "    plt.show()\n",
    "\n",
    "    # Play the sound\n",
    "    sound = AudioSegment.from_file(snd_path)\n",
    "    play(sound)"
   ]
  },
  {
   "cell_type": "code",
   "execution_count": null,
   "metadata": {},
   "outputs": [],
   "source": [
    "# Which language's recordings do you want to inspect?\n",
    "cv_folder = '/Users/miaozhang/Research/CorpusPhon/CorpusData/CommonVoice'\n",
    "lang_folder = 'de_v16'\n",
    "\n",
    "# Which sound file would you like to inspect?\n",
    "snd_id = '21902078'\n",
    "\n",
    "# The path of the recordings and the log file\n",
    "rec_folder = cv_folder + '/' + lang_folder + '/clips'\n",
    "log = pd.read_csv(cv_folder + '/' + lang_folder + '/validated.tsv', \n",
    "                  sep = '\\t', low_memory = False, usecols=['path', 'sentence'])"
   ]
  },
  {
   "cell_type": "code",
   "execution_count": null,
   "metadata": {},
   "outputs": [],
   "source": [
    "# Plot and play\n",
    "snd_file = log.loc[log['path'].str.contains(snd_id),'path'].to_string(index=False)\n",
    "transcript = log.loc[log['path'].str.contains(snd_id),'sentence'].to_string(index=False)\n",
    "snd_path = rec_folder + '/' + snd_file\n",
    "inspect_snd(snd_path, transcript)"
   ]
  }
 ],
 "metadata": {
  "kernelspec": {
   "display_name": "base",
   "language": "python",
   "name": "python3"
  },
  "language_info": {
   "codemirror_mode": {
    "name": "ipython",
    "version": 3
   },
   "file_extension": ".py",
   "mimetype": "text/x-python",
   "name": "python",
   "nbconvert_exporter": "python",
   "pygments_lexer": "ipython3",
   "version": "3.11.7"
  }
 },
 "nbformat": 4,
 "nbformat_minor": 2
}
