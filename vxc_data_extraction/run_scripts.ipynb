{
 "cells": [
  {
   "cell_type": "code",
   "execution_count": null,
   "metadata": {},
   "outputs": [],
   "source": [
    "import subprocess, os, re\n",
    "from playsound import playsound\n",
    "\n",
    "# To run this script, the following modules are needed:\n",
    "# parselmouth, praatio, os, logging, argparse, time, concurrent, pandas, numpy\n",
    "\n",
    "# Directories\n",
    "commonvoice_dir = '/Users/miaozhang/Research/VoxCommunis/CommonVoice'\n",
    "output_dir = '/Users/miaozhang/switchdrive/vxc_data'\n",
    "\n",
    "tgfile = [file for file in os.listdir('/Users/miaozhang/Research/VoxCommunis/VoxCommunis_OSF/textgrids') if '.DS_Store' not in file]\n",
    "tg = [re.sub(r'(^[a-zA-Z\\-]+)_.*$', r'\\1', file) for file in tgfile]\n",
    "datfile = [file for file in os.listdir('/Users/miaozhang/switchdrive/vxc_data') if '.DS_Store' not in file]\n",
    "dat = [re.sub(r'(^[a-zA-Z\\-]+)_.*$', r'\\1', file) for file in datfile]\n",
    "\n",
    "\n",
    "# Language code (Common Voice) and version number\n",
    "for idx, lang_code in enumerate(tg):\n",
    "    if lang_code not in dat:\n",
    "        ver_num = re.sub(r'.*textgrids(\\d+).*', r'\\1', tgfile[idx])\n",
    "        print(lang_code, ver_num)\n",
    "\n",
    "        # The code to run formant script\n",
    "        script_cmd = ['python', 'vxc_get_dur_f0_formants.py', commonvoice_dir, lang_code, ver_num, output_dir]\n",
    "\n",
    "        # Run scripts\n",
    "        subprocess.run(script_cmd)\n",
    "\n",
    "        # Ring to inform about the completion\n",
    "        playsound('success-1-6297.mp3')"
   ]
  }
 ],
 "metadata": {
  "kernelspec": {
   "display_name": "base",
   "language": "python",
   "name": "python3"
  },
  "language_info": {
   "codemirror_mode": {
    "name": "ipython",
    "version": 3
   },
   "file_extension": ".py",
   "mimetype": "text/x-python",
   "name": "python",
   "nbconvert_exporter": "python",
   "pygments_lexer": "ipython3",
   "version": "3.11.5"
  }
 },
 "nbformat": 4,
 "nbformat_minor": 2
}
